{
 "cells": [
  {
   "cell_type": "code",
   "execution_count": 1,
   "id": "529795c9-2108-4eae-86c8-f2f1302e7cee",
   "metadata": {},
   "outputs": [],
   "source": [
    "#Q1)i\n",
    "s='RAJAT'"
   ]
  },
  {
   "cell_type": "code",
   "execution_count": 2,
   "id": "fc504ba1-d52f-475d-9081-b69bfcb493a1",
   "metadata": {},
   "outputs": [],
   "source": [
    "#1)ii\n",
    "l=[23,4.5,6,'radian','xyz']"
   ]
  },
  {
   "cell_type": "code",
   "execution_count": 3,
   "id": "11034bc5-9bbe-4425-9226-9d64884db20d",
   "metadata": {},
   "outputs": [],
   "source": [
    "#1)iii\n",
    "f=43.24"
   ]
  },
  {
   "cell_type": "code",
   "execution_count": 4,
   "id": "1a9806bc-179c-4c38-93fc-2def73f1048a",
   "metadata": {},
   "outputs": [],
   "source": [
    "#iv\n",
    "t=(98,56,\"raj\")"
   ]
  },
  {
   "cell_type": "code",
   "execution_count": null,
   "id": "b93bcfae-1832-4c30-90e3-a59f25ccc103",
   "metadata": {},
   "outputs": [],
   "source": [
    "#Q2)i)\n",
    "string\n",
    "#ii)\n",
    "string\n",
    "#iii)\n",
    "list\n",
    "#iv)\n",
    "integer\n"
   ]
  },
  {
   "cell_type": "code",
   "execution_count": 5,
   "id": "f13f0732-2d06-46b8-8727-bc0ad8398449",
   "metadata": {},
   "outputs": [
    {
     "data": {
      "text/plain": [
       "1.4"
      ]
     },
     "execution_count": 5,
     "metadata": {},
     "output_type": "execute_result"
    }
   ],
   "source": [
    "#Q3)I) Used for division purpose\n",
    "7/5\n"
   ]
  },
  {
   "cell_type": "code",
   "execution_count": 7,
   "id": "201a03ab-e791-4c04-9eb4-b73b325ed324",
   "metadata": {},
   "outputs": [
    {
     "data": {
      "text/plain": [
       "1"
      ]
     },
     "execution_count": 7,
     "metadata": {},
     "output_type": "execute_result"
    }
   ],
   "source": [
    "#ii) it gives remainder as a ouput\n",
    "5%4"
   ]
  },
  {
   "cell_type": "code",
   "execution_count": 8,
   "id": "86ab12eb-0b4c-47e2-b345-4cfd73bb0d31",
   "metadata": {},
   "outputs": [
    {
     "data": {
      "text/plain": [
       "1"
      ]
     },
     "execution_count": 8,
     "metadata": {},
     "output_type": "execute_result"
    }
   ],
   "source": [
    "#iii) it performs division operation but return floor result or integer type result\n",
    "4//3"
   ]
  },
  {
   "cell_type": "code",
   "execution_count": 9,
   "id": "564d790a-4e3c-4b4d-a45a-6cc8402a0aeb",
   "metadata": {},
   "outputs": [
    {
     "data": {
      "text/plain": [
       "8"
      ]
     },
     "execution_count": 9,
     "metadata": {},
     "output_type": "execute_result"
    }
   ],
   "source": [
    "#iv) it is for power operation\n",
    "2**3"
   ]
  },
  {
   "cell_type": "code",
   "execution_count": 10,
   "id": "8039575f-2f82-4226-9055-dc1dd73aab76",
   "metadata": {},
   "outputs": [
    {
     "name": "stdout",
     "output_type": "stream",
     "text": [
      "1 <class 'int'>\n",
      "2 <class 'int'>\n",
      "3 <class 'int'>\n",
      "4.15 <class 'float'>\n",
      "rajat <class 'str'>\n",
      "[1] <class 'list'>\n",
      "7 <class 'int'>\n",
      "8.9 <class 'float'>\n",
      "9 <class 'int'>\n",
      "45 <class 'int'>\n"
     ]
    }
   ],
   "source": [
    "#Q4)\n",
    "l=[1,2,3,4.15,'rajat',[1],7,8.9,9,(45)]\n",
    "for i in l:\n",
    "    print(i,type(i))"
   ]
  },
  {
   "cell_type": "code",
   "execution_count": 11,
   "id": "cfb10ba6-30f6-4746-97f8-c7f34a5913ee",
   "metadata": {},
   "outputs": [
    {
     "name": "stdout",
     "output_type": "stream",
     "text": [
      "Element is not divisible by 3\n",
      "Element is not divisible by 3\n",
      "Element is divisible by 3\n",
      "Element is not divisible by 3\n",
      "Element is not divisible by 3\n",
      "Element is divisible by 3\n",
      "Element is not divisible by 3\n",
      "Element is not divisible by 3\n",
      "Element is divisible by 3\n",
      "Element is not divisible by 3\n",
      "Element is not divisible by 3\n",
      "Element is divisible by 3\n",
      "Element is not divisible by 3\n",
      "Element is not divisible by 3\n",
      "Element is divisible by 3\n",
      "Element is not divisible by 3\n",
      "Element is not divisible by 3\n",
      "Element is divisible by 3\n",
      "Element is not divisible by 3\n",
      "Element is not divisible by 3\n",
      "Element is divisible by 3\n",
      "Element is not divisible by 3\n",
      "Element is not divisible by 3\n",
      "Element is divisible by 3\n",
      "Element is not divisible by 3\n"
     ]
    }
   ],
   "source": [
    "#Q6)\n",
    "l=[1,2,3,4,5,6,7,8,9,10,11,12,13,14,15,16,17,18,19,20,21,22,23,24,25]\n",
    "for i in l:\n",
    "    if (i%3==0):\n",
    "        print(\"Element is divisible by 3\")\n",
    "    else:\n",
    "        print(\"Element is not divisible by 3\")\n",
    "        "
   ]
  },
  {
   "cell_type": "code",
   "execution_count": 13,
   "id": "1cc37b1c-ed1c-4cb1-a5af-a6a27cfa022e",
   "metadata": {},
   "outputs": [],
   "source": [
    "\"\"\"Q7) Mutable data type means in which the value at a particular indesx\n",
    "can be updated while in mutable data type the value present in the particular index can not be updated\"\"\"\n",
    "l=[1,2,3,4]\n",
    "l[0]=2\n",
    "\n"
   ]
  },
  {
   "cell_type": "code",
   "execution_count": 14,
   "id": "1e59fa7c-0366-4edb-86d3-8d77d089aa23",
   "metadata": {},
   "outputs": [
    {
     "data": {
      "text/plain": [
       "[2, 2, 3, 4]"
      ]
     },
     "execution_count": 14,
     "metadata": {},
     "output_type": "execute_result"
    }
   ],
   "source": [
    "l\n"
   ]
  },
  {
   "cell_type": "code",
   "execution_count": null,
   "id": "73259b2e-c949-482b-a8ff-e7da3638eff8",
   "metadata": {},
   "outputs": [],
   "source": []
  },
  {
   "cell_type": "code",
   "execution_count": null,
   "id": "c547ba6b-7683-4812-99a9-4fe103d99776",
   "metadata": {},
   "outputs": [],
   "source": [
    "# Input values\n",
    "A = int(input(\"Enter the number A: \"))\n",
    "B = int(input(\"Enter the number B: \"))\n",
    "\n",
    "count = 0\n",
    "\n",
    "# Check if A is divisible by B and keep dividing until it's not\n",
    "while A % B == 0:\n",
    "    A = A // B  # Divide A by B\n",
    "    count += 1   # Increment the count\n",
    "\n",
    "# Check if A has been reduced to 1, indicating pure divisibility\n",
    "if A == 1:\n",
    "    print(f\"{count} times {B} can divide into the original number.\")\n",
    "else:\n",
    "    print(f\"{B} cannot completely divide the original number.\")\n",
    "\n"
   ]
  },
  {
   "cell_type": "code",
   "execution_count": null,
   "id": "ebc69953-0ae4-4f08-b33a-5b8feed09066",
   "metadata": {},
   "outputs": [],
   "source": []
  }
 ],
 "metadata": {
  "kernelspec": {
   "display_name": "Python 3 (ipykernel)",
   "language": "python",
   "name": "python3"
  },
  "language_info": {
   "codemirror_mode": {
    "name": "ipython",
    "version": 3
   },
   "file_extension": ".py",
   "mimetype": "text/x-python",
   "name": "python",
   "nbconvert_exporter": "python",
   "pygments_lexer": "ipython3",
   "version": "3.10.8"
  }
 },
 "nbformat": 4,
 "nbformat_minor": 5
}
